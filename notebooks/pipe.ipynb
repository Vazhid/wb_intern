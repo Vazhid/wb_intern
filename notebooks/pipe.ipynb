{
 "cells": [
  {
   "cell_type": "code",
   "execution_count": 2,
   "id": "929ac16c",
   "metadata": {},
   "outputs": [],
   "source": [
    "import numpy as np\n",
    "import pandas as pd\n",
    "import seaborn as sns\n",
    "import matplotlib.pyplot as plt\n",
    "%matplotlib inline\n",
    "import re\n",
    "from pymorphy2 import MorphAnalyzer\n",
    "from functools import lru_cache\n",
    "from nltk.corpus import stopwords\n",
    "from multiprocessing import Pool\n",
    "from tqdm import tqdm\n",
    "from gensim.models import Word2Vec\n",
    "import fasttext\n",
    "import plotly.express as px\n",
    "from nltk.probability import FreqDist\n",
    "from sklearn.manifold import TSNE\n",
    "from sklearn.model_selection import train_test_split as tts\n",
    "from catboost import CatBoostClassifier\n",
    "from catboost import Pool\n",
    "from sklearn.metrics import f1_score\n",
    "from sklearn import preprocessing\n",
    "from sklearn.linear_model import LogisticRegression\n",
    "from sklearn.preprocessing import StandardScaler\n",
    "from sklearn.pipeline import make_pipeline\n",
    "from sklearn.ensemble import RandomForestClassifier\n",
    "from sklearn.ensemble import VotingClassifier\n",
    "from sklearn.model_selection import GridSearchCV\n",
    "from sklearn.metrics import accuracy_score, recall_score, precision_score, f1_score, roc_auc_score"
   ]
  },
  {
   "cell_type": "code",
   "execution_count": 44,
   "id": "4e626521",
   "metadata": {},
   "outputs": [],
   "source": [
    "from catboost.utils import get_roc_curve, select_threshold"
   ]
  },
  {
   "cell_type": "code",
   "execution_count": 327,
   "id": "f5c70dfb",
   "metadata": {},
   "outputs": [],
   "source": [
    "from sklearn.model_selection import cross_validate, StratifiedKFold, GridSearchCV\n"
   ]
  },
  {
   "cell_type": "code",
   "execution_count": 307,
   "id": "237154d0",
   "metadata": {},
   "outputs": [],
   "source": [
    "df = pd.read_csv(\"wb_school_task_2.csv\")"
   ]
  },
  {
   "cell_type": "code",
   "execution_count": 308,
   "id": "672bf319",
   "metadata": {},
   "outputs": [],
   "source": [
    "df['word_len'] = df.text.apply(lambda x: len(x.split()))\n",
    "df['sym_len'] = df.text.apply(len)"
   ]
  },
  {
   "cell_type": "code",
   "execution_count": 309,
   "id": "406dbcc3",
   "metadata": {},
   "outputs": [],
   "source": [
    "df['sym_len'] = np.log(df['sym_len'])\n",
    "df['word_len'] = np.log(df['word_len'])"
   ]
  },
  {
   "cell_type": "code",
   "execution_count": 310,
   "id": "910ab00e",
   "metadata": {},
   "outputs": [],
   "source": [
    "np.seterr(divide = 'ignore') \n",
    "df['f1'] = np.log(df['f1'])\n",
    "df['f2'] = np.log(df['f2'])\n",
    "df['f4'] = np.log(df['f4'])\n",
    "df['f5'] = np.log(df['f5'])\n",
    "df['f7'] = np.log(df['f7'])\n",
    "df['f8'] = np.log(df['f8'])"
   ]
  },
  {
   "cell_type": "code",
   "execution_count": 311,
   "id": "ae9a1b18",
   "metadata": {},
   "outputs": [],
   "source": [
    "df['f1'] = df['f1'].fillna(df['f1'].mean())\n",
    "df['f2'] = df['f2'].fillna(df['f2'].mean())\n",
    "df['f4'] = df['f4'].fillna(df['f4'].mean())\n",
    "df['f5'] = df['f5'].fillna(df['f5'].mean())\n",
    "df['f7'] = df['f7'].fillna(df['f7'].mean())\n",
    "df['f8'] = df['f8'].fillna(df['f8'].mean())"
   ]
  },
  {
   "cell_type": "code",
   "execution_count": 325,
   "id": "41fe2e0d",
   "metadata": {},
   "outputs": [],
   "source": [
    "def get_metrics(y_true, y_pred) -> dict:\n",
    "    \n",
    "    metrics = {\n",
    "        \"recall_score\": 0, \n",
    "        \"precision_score\": 0, \n",
    "        \"f1_score\" : 0\n",
    "    }\n",
    "    \n",
    "    metrics[\"recall_score\"] = recall_score(y_true, y_pred)\n",
    "    metrics[\"precision_score\"] = precision_score(y_true, y_pred)\n",
    "    metrics[\"f1_score\"] = f1_score(y_true, y_pred, average='micro')\n",
    "    metrics[\"roc_auc_score\"] = roc_auc_score(y_true, y_pred)\n",
    "    \n",
    "    return metrics\n",
    "\n",
    "def plot_feature_importance(importance,names,model_type):\n",
    "    \n",
    "    feature_importance = np.array(importance)\n",
    "    feature_names = np.array(names)\n",
    "    \n",
    "    data={'feature_names':feature_names,'feature_importance':feature_importance}\n",
    "    fi_df = pd.DataFrame(data)\n",
    "    \n",
    "    fi_df.sort_values(by=['feature_importance'], ascending=False,inplace=True)\n",
    "    \n",
    "    plt.figure(figsize=(5,4))\n",
    "\n",
    "    sns.barplot(x=fi_df['feature_importance'], y=fi_df['feature_names'])\n",
    "    plt.title(model_type + 'FEATURE IMPORTANCE')\n",
    "    plt.xlabel('FEATURE IMPORTANCE')\n",
    "    plt.ylabel('FEATURE NAMES')"
   ]
  },
  {
   "cell_type": "code",
   "execution_count": 318,
   "id": "d26ace53",
   "metadata": {},
   "outputs": [],
   "source": [
    "X = df[[\"f1\",\"f2\",\"f3\", \"f5\",\"f7\", \"f8\", \"word_len\"]]\n",
    "y = df[\"label\"]"
   ]
  },
  {
   "cell_type": "code",
   "execution_count": 319,
   "id": "41e3cdab",
   "metadata": {},
   "outputs": [],
   "source": [
    "X_train, X_test, y_train, y_test = tts(X, y, shuffle=True, stratify=y, train_size=0.7, random_state=123)\n",
    "\n",
    "train_pool = Pool(\n",
    "    X_train, y_train, \n",
    ")\n",
    "\n",
    "validation_pool = Pool(\n",
    "    X_test, y_test, \n",
    ")"
   ]
  },
  {
   "cell_type": "code",
   "execution_count": 362,
   "id": "33557c88",
   "metadata": {},
   "outputs": [
    {
     "name": "stdout",
     "output_type": "stream",
     "text": [
      "0:\tlearn: 0.6928083\ttest: 0.6928366\tbest: 0.6928366 (0)\ttotal: 1.97ms\tremaining: 39.5s\n",
      "1000:\tlearn: 0.5338666\ttest: 0.5512356\tbest: 0.5512356 (1000)\ttotal: 1.76s\tremaining: 33.3s\n",
      "2000:\tlearn: 0.4909257\ttest: 0.5231772\tbest: 0.5231772 (2000)\ttotal: 3.51s\tremaining: 31.6s\n",
      "3000:\tlearn: 0.4674659\ttest: 0.5129199\tbest: 0.5129199 (3000)\ttotal: 5.31s\tremaining: 30.1s\n",
      "4000:\tlearn: 0.4508725\ttest: 0.5076713\tbest: 0.5076713 (4000)\ttotal: 7.33s\tremaining: 29.3s\n",
      "5000:\tlearn: 0.4374271\ttest: 0.5050441\tbest: 0.5050441 (5000)\ttotal: 9.13s\tremaining: 27.4s\n",
      "6000:\tlearn: 0.4255368\ttest: 0.5030598\tbest: 0.5030598 (6000)\ttotal: 10.9s\tremaining: 25.5s\n",
      "7000:\tlearn: 0.4142718\ttest: 0.5014998\tbest: 0.5014945 (6998)\ttotal: 12.8s\tremaining: 23.8s\n",
      "8000:\tlearn: 0.4023470\ttest: 0.5004385\tbest: 0.5004295 (7996)\ttotal: 14.6s\tremaining: 21.9s\n",
      "9000:\tlearn: 0.3898465\ttest: 0.4992746\tbest: 0.4992684 (8999)\ttotal: 16.5s\tremaining: 20.1s\n",
      "10000:\tlearn: 0.3775479\ttest: 0.4985970\tbest: 0.4985712 (9886)\ttotal: 18.2s\tremaining: 18.2s\n",
      "11000:\tlearn: 0.3653819\ttest: 0.4984215\tbest: 0.4983598 (10709)\ttotal: 20s\tremaining: 16.4s\n",
      "12000:\tlearn: 0.3533305\ttest: 0.4987853\tbest: 0.4983598 (10709)\ttotal: 21.9s\tremaining: 14.6s\n",
      "13000:\tlearn: 0.3420344\ttest: 0.4994457\tbest: 0.4983598 (10709)\ttotal: 23.7s\tremaining: 12.7s\n",
      "14000:\tlearn: 0.3315168\ttest: 0.5003039\tbest: 0.4983598 (10709)\ttotal: 25.7s\tremaining: 11s\n",
      "15000:\tlearn: 0.3213608\ttest: 0.5014895\tbest: 0.4983598 (10709)\ttotal: 27.6s\tremaining: 9.2s\n",
      "16000:\tlearn: 0.3120947\ttest: 0.5027570\tbest: 0.4983598 (10709)\ttotal: 29.5s\tremaining: 7.36s\n",
      "17000:\tlearn: 0.3031517\ttest: 0.5042819\tbest: 0.4983598 (10709)\ttotal: 31.3s\tremaining: 5.52s\n",
      "18000:\tlearn: 0.2946860\ttest: 0.5055555\tbest: 0.4983598 (10709)\ttotal: 33.1s\tremaining: 3.68s\n",
      "19000:\tlearn: 0.2865031\ttest: 0.5069348\tbest: 0.4983598 (10709)\ttotal: 34.9s\tremaining: 1.83s\n",
      "19999:\tlearn: 0.2786451\ttest: 0.5082267\tbest: 0.4983598 (10709)\ttotal: 36.8s\tremaining: 0us\n",
      "\n",
      "bestTest = 0.4983597869\n",
      "bestIteration = 10709\n",
      "\n",
      "Shrink model to first 10710 iterations.\n"
     ]
    }
   ],
   "source": [
    "model = CatBoostClassifier(use_best_model=True, \n",
    "                           iterations=20000,\n",
    "                           learning_rate=0.001,\n",
    "                           loss_function='Logloss').fit(train_pool, \n",
    "                                                    eval_set=validation_pool, \n",
    "                                                    verbose=1000)"
   ]
  },
  {
   "cell_type": "code",
   "execution_count": 363,
   "id": "2a8580f5",
   "metadata": {},
   "outputs": [],
   "source": [
    "roc_curve_values = get_roc_curve(model, train_pool)\n",
    "boundary = select_threshold(model, curve=roc_curve_values)\n",
    "model.set_probability_threshold(boundary)"
   ]
  },
  {
   "cell_type": "code",
   "execution_count": 364,
   "id": "4beec171",
   "metadata": {},
   "outputs": [
    {
     "data": {
      "text/plain": [
       "{'recall_score': 0.46417445482866043,\n",
       " 'precision_score': 0.6008064516129032,\n",
       " 'f1_score': 0.7107790821771612,\n",
       " 'roc_auc_score': 0.6517300845571873}"
      ]
     },
     "execution_count": 364,
     "metadata": {},
     "output_type": "execute_result"
    }
   ],
   "source": [
    "pred = model.predict(validation_pool).flatten()\n",
    "catboost_metrics = get_metrics(pred, y_test)\n",
    "catboost_metrics"
   ]
  },
  {
   "cell_type": "code",
   "execution_count": 365,
   "id": "0af74660",
   "metadata": {},
   "outputs": [
    {
     "data": {
      "image/png": "[encoded data removed]",
      "text/plain": [
       "<Figure size 500x400 with 1 Axes>"
      ]
     },
     "metadata": {},
     "output_type": "display_data"
    }
   ],
   "source": [
    "plot_feature_importance(model.get_feature_importance(),X_train.columns,'CATBOOST ')"
   ]
  },
  {
   "cell_type": "code",
   "execution_count": 369,
   "id": "80ece93f",
   "metadata": {},
   "outputs": [],
   "source": [
    "model = CatBoostClassifier(iterations=20000,\n",
    "                           learning_rate=0.001, \n",
    "                           verbose=1000)"
   ]
  },
  {
   "cell_type": "code",
   "execution_count": 370,
   "id": "d940ca84",
   "metadata": {},
   "outputs": [],
   "source": [
    "used_metrics = ['f1_micro', 'precision', 'recall', 'roc_auc']"
   ]
  },
  {
   "cell_type": "code",
   "execution_count": 371,
   "id": "3f6e8fa1",
   "metadata": {},
   "outputs": [],
   "source": [
    "skf = StratifiedKFold(n_splits=4, shuffle=True, random_state=123)"
   ]
  },
  {
   "cell_type": "code",
   "execution_count": 375,
   "id": "bbfd972d",
   "metadata": {
    "scrolled": true
   },
   "outputs": [
    {
     "name": "stdout",
     "output_type": "stream",
     "text": [
      "0:\tlearn: 0.6928288\ttotal: 6.85ms\tremaining: 2m 16s\n",
      "1000:\tlearn: 0.5363490\ttotal: 1.76s\tremaining: 33.4s\n",
      "2000:\tlearn: 0.4936243\ttotal: 3.48s\tremaining: 31.3s\n",
      "3000:\tlearn: 0.4707700\ttotal: 5.2s\tremaining: 29.4s\n",
      "4000:\tlearn: 0.4547399\ttotal: 6.92s\tremaining: 27.7s\n",
      "5000:\tlearn: 0.4414746\ttotal: 8.73s\tremaining: 26.2s\n",
      "6000:\tlearn: 0.4299142\ttotal: 10.4s\tremaining: 24.3s\n",
      "7000:\tlearn: 0.4189833\ttotal: 12.2s\tremaining: 22.7s\n",
      "8000:\tlearn: 0.4070716\ttotal: 13.9s\tremaining: 20.9s\n",
      "9000:\tlearn: 0.3940825\ttotal: 15.7s\tremaining: 19.2s\n",
      "10000:\tlearn: 0.3806750\ttotal: 17.6s\tremaining: 17.6s\n",
      "11000:\tlearn: 0.3683469\ttotal: 19.3s\tremaining: 15.8s\n",
      "12000:\tlearn: 0.3568962\ttotal: 21.1s\tremaining: 14.1s\n",
      "13000:\tlearn: 0.3459658\ttotal: 22.9s\tremaining: 12.3s\n",
      "14000:\tlearn: 0.3359174\ttotal: 24.6s\tremaining: 10.5s\n",
      "15000:\tlearn: 0.3263636\ttotal: 26.3s\tremaining: 8.77s\n",
      "16000:\tlearn: 0.3173158\ttotal: 28s\tremaining: 7s\n",
      "17000:\tlearn: 0.3088830\ttotal: 29.7s\tremaining: 5.25s\n",
      "18000:\tlearn: 0.3010730\ttotal: 31.5s\tremaining: 3.5s\n",
      "19000:\tlearn: 0.2934898\ttotal: 33.2s\tremaining: 1.75s\n",
      "19999:\tlearn: 0.2861856\ttotal: 34.9s\tremaining: 0us\n",
      "0:\tlearn: 0.6928164\ttotal: 3ms\tremaining: 1m\n",
      "1000:\tlearn: 0.5364153\ttotal: 1.69s\tremaining: 32.1s\n",
      "2000:\tlearn: 0.4955831\ttotal: 3.39s\tremaining: 30.5s\n",
      "3000:\tlearn: 0.4743490\ttotal: 5.09s\tremaining: 28.8s\n",
      "4000:\tlearn: 0.4586828\ttotal: 6.87s\tremaining: 27.5s\n",
      "5000:\tlearn: 0.4461092\ttotal: 8.56s\tremaining: 25.7s\n",
      "6000:\tlearn: 0.4347218\ttotal: 10.3s\tremaining: 23.9s\n",
      "7000:\tlearn: 0.4237345\ttotal: 12s\tremaining: 22.2s\n",
      "8000:\tlearn: 0.4117291\ttotal: 13.7s\tremaining: 20.6s\n",
      "9000:\tlearn: 0.3988552\ttotal: 15.5s\tremaining: 18.9s\n",
      "10000:\tlearn: 0.3856959\ttotal: 17.2s\tremaining: 17.2s\n",
      "11000:\tlearn: 0.3732115\ttotal: 18.9s\tremaining: 15.5s\n",
      "12000:\tlearn: 0.3616816\ttotal: 20.6s\tremaining: 13.8s\n",
      "13000:\tlearn: 0.3508647\ttotal: 22.4s\tremaining: 12.1s\n",
      "14000:\tlearn: 0.3407074\ttotal: 24.2s\tremaining: 10.4s\n",
      "15000:\tlearn: 0.3311993\ttotal: 26s\tremaining: 8.65s\n",
      "16000:\tlearn: 0.3220737\ttotal: 27.7s\tremaining: 6.91s\n",
      "17000:\tlearn: 0.3131814\ttotal: 29.4s\tremaining: 5.18s\n",
      "18000:\tlearn: 0.3047224\ttotal: 31.1s\tremaining: 3.45s\n",
      "19000:\tlearn: 0.2968419\ttotal: 32.8s\tremaining: 1.73s\n",
      "19999:\tlearn: 0.2892948\ttotal: 34.6s\tremaining: 0us\n",
      "0:\tlearn: 0.6928310\ttotal: 1.88ms\tremaining: 37.6s\n",
      "1000:\tlearn: 0.5439111\ttotal: 1.71s\tremaining: 32.4s\n",
      "2000:\tlearn: 0.5029083\ttotal: 3.42s\tremaining: 30.8s\n",
      "3000:\tlearn: 0.4807049\ttotal: 5.12s\tremaining: 29s\n",
      "4000:\tlearn: 0.4642688\ttotal: 6.83s\tremaining: 27.3s\n",
      "5000:\tlearn: 0.4506459\ttotal: 8.63s\tremaining: 25.9s\n",
      "6000:\tlearn: 0.4388377\ttotal: 10.4s\tremaining: 24.2s\n",
      "7000:\tlearn: 0.4273693\ttotal: 12.3s\tremaining: 22.8s\n",
      "8000:\tlearn: 0.4153247\ttotal: 14.1s\tremaining: 21.2s\n",
      "9000:\tlearn: 0.4018788\ttotal: 15.9s\tremaining: 19.4s\n",
      "10000:\tlearn: 0.3888853\ttotal: 17.6s\tremaining: 17.6s\n",
      "11000:\tlearn: 0.3762277\ttotal: 19.3s\tremaining: 15.8s\n",
      "12000:\tlearn: 0.3645882\ttotal: 21s\tremaining: 14s\n",
      "13000:\tlearn: 0.3535031\ttotal: 22.8s\tremaining: 12.3s\n",
      "14000:\tlearn: 0.3432038\ttotal: 24.5s\tremaining: 10.5s\n",
      "15000:\tlearn: 0.3334700\ttotal: 26.3s\tremaining: 8.75s\n",
      "16000:\tlearn: 0.3243043\ttotal: 28s\tremaining: 7s\n",
      "17000:\tlearn: 0.3156537\ttotal: 29.8s\tremaining: 5.26s\n",
      "18000:\tlearn: 0.3072385\ttotal: 31.6s\tremaining: 3.5s\n",
      "19000:\tlearn: 0.2994677\ttotal: 33.5s\tremaining: 1.76s\n",
      "19999:\tlearn: 0.2919432\ttotal: 35.2s\tremaining: 0us\n",
      "0:\tlearn: 0.6928140\ttotal: 2.53ms\tremaining: 50.7s\n",
      "1000:\tlearn: 0.5328938\ttotal: 1.8s\tremaining: 34.3s\n",
      "2000:\tlearn: 0.4892646\ttotal: 3.5s\tremaining: 31.5s\n",
      "3000:\tlearn: 0.4656686\ttotal: 5.2s\tremaining: 29.5s\n",
      "4000:\tlearn: 0.4488561\ttotal: 7.07s\tremaining: 28.3s\n",
      "5000:\tlearn: 0.4352329\ttotal: 8.87s\tremaining: 26.6s\n",
      "6000:\tlearn: 0.4231417\ttotal: 10.8s\tremaining: 25.2s\n",
      "7000:\tlearn: 0.4117507\ttotal: 12.6s\tremaining: 23.3s\n",
      "8000:\tlearn: 0.3995678\ttotal: 14.3s\tremaining: 21.4s\n",
      "9000:\tlearn: 0.3866105\ttotal: 16s\tremaining: 19.5s\n",
      "10000:\tlearn: 0.3735201\ttotal: 17.7s\tremaining: 17.7s\n",
      "11000:\tlearn: 0.3610867\ttotal: 19.5s\tremaining: 16s\n",
      "12000:\tlearn: 0.3495665\ttotal: 21.3s\tremaining: 14.2s\n",
      "13000:\tlearn: 0.3390513\ttotal: 23.1s\tremaining: 12.4s\n",
      "14000:\tlearn: 0.3290114\ttotal: 25.1s\tremaining: 10.8s\n",
      "15000:\tlearn: 0.3197617\ttotal: 26.9s\tremaining: 8.96s\n",
      "16000:\tlearn: 0.3111267\ttotal: 28.6s\tremaining: 7.16s\n",
      "17000:\tlearn: 0.3028815\ttotal: 30.5s\tremaining: 5.37s\n",
      "18000:\tlearn: 0.2948859\ttotal: 32.4s\tremaining: 3.6s\n",
      "19000:\tlearn: 0.2872156\ttotal: 34.2s\tremaining: 1.8s\n",
      "19999:\tlearn: 0.2798766\ttotal: 35.9s\tremaining: 0us\n"
     ]
    }
   ],
   "source": [
    "crossval = cross_validate(model, X, y, cv=skf, scoring=used_metrics, return_estimator=True)"
   ]
  },
  {
   "cell_type": "code",
   "execution_count": 389,
   "id": "5089255c",
   "metadata": {},
   "outputs": [
    {
     "data": {
      "text/plain": [
       "{'fit_time': array([36.93963385, 36.56076813, 37.17944598, 38.05707502]),\n",
       " 'score_time': array([0.02483201, 0.02138114, 0.02133298, 0.02774978]),\n",
       " 'estimator': [<catboost.core.CatBoostClassifier at 0x12bc763b0>,\n",
       "  <catboost.core.CatBoostClassifier at 0x12bc76050>,\n",
       "  <catboost.core.CatBoostClassifier at 0x12bc75e70>,\n",
       "  <catboost.core.CatBoostClassifier at 0x12bc76380>],\n",
       " 'test_f1_micro': array([0.77080666, 0.78617157, 0.78745198, 0.77051282]),\n",
       " 'test_precision': array([0.68      , 0.70967742, 0.67826087, 0.64516129]),\n",
       " 'test_recall': array([0.24757282, 0.32038835, 0.37681159, 0.29126214]),\n",
       " 'test_roc_auc': array([0.73051921, 0.7301984 , 0.76046559, 0.71810832])}"
      ]
     },
     "execution_count": 389,
     "metadata": {},
     "output_type": "execute_result"
    }
   ],
   "source": [
    "crossval"
   ]
  },
  {
   "cell_type": "code",
   "execution_count": 391,
   "id": "48300b44",
   "metadata": {},
   "outputs": [],
   "source": [
    "crossval[\"estimator\"][2].save_model(\"model\")"
   ]
  },
  {
   "cell_type": "code",
   "execution_count": null,
   "id": "a2301f84",
   "metadata": {},
   "outputs": [],
   "source": []
  }
 ],
 "metadata": {
  "kernelspec": {
   "display_name": "Python 3 (ipykernel)",
   "language": "python",
   "name": "python3"
  },
  "language_info": {
   "codemirror_mode": {
    "name": "ipython",
    "version": 3
   },
   "file_extension": ".py",
   "mimetype": "text/x-python",
   "name": "python",
   "nbconvert_exporter": "python",
   "pygments_lexer": "ipython3",
   "version": "3.10.8"
  }
 },
 "nbformat": 4,
 "nbformat_minor": 5
}
